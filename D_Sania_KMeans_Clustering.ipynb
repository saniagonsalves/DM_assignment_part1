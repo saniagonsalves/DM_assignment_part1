{
  "nbformat": 4,
  "nbformat_minor": 0,
  "metadata": {
    "colab": {
      "name": "D_Sania_KMeans Clustering.ipynb",
      "provenance": [],
      "collapsed_sections": [],
      "include_colab_link": true
    },
    "kernelspec": {
      "display_name": "Python 3",
      "name": "python3"
    },
    "language_info": {
      "name": "python"
    }
  },
  "cells": [
    {
      "cell_type": "markdown",
      "metadata": {
        "id": "view-in-github",
        "colab_type": "text"
      },
      "source": [
        "<a href=\"https://colab.research.google.com/github/saniagonsalves/DM_assignment_part1/blob/main/D_Sania_KMeans_Clustering.ipynb\" target=\"_parent\"><img src=\"https://colab.research.google.com/assets/colab-badge.svg\" alt=\"Open In Colab\"/></a>"
      ]
    },
    {
      "cell_type": "markdown",
      "source": [
        "Name- Sania Gonsalves"
      ],
      "metadata": {
        "id": "ndMsNv0DpKKN"
      }
    },
    {
      "cell_type": "markdown",
      "metadata": {
        "id": "aZuUzx2YHEfc"
      },
      "source": [
        "Data Mining Assignment\n",
        "\n",
        "**a) K-Means clustering**"
      ]
    },
    {
      "cell_type": "markdown",
      "metadata": {
        "id": "d_jFHSh0xUn3"
      },
      "source": [
        "**Dataset file name : countries of the world.csv**\n",
        "\n",
        "Dataset link- https://drive.google.com/file/d/1TD7h6IXliVLM4tt5jLfrH3qYk7eHsk4f/view?usp=sharing\n"
      ]
    },
    {
      "cell_type": "markdown",
      "metadata": {
        "id": "E9mcdx2nH4Q0"
      },
      "source": [
        "**To find the co-relation between literacy and Infant mortality of the countries using K- means clustering**"
      ]
    },
    {
      "cell_type": "code",
      "metadata": {
        "id": "1qkssXQXzSK0"
      },
      "source": [
        "import pandas as pd\n",
        "import numpy as np\n",
        "import matplotlib.pyplot as plt\n",
        "from matplotlib.colors import ListedColormap\n",
        "\n",
        "from sklearn.cluster import KMeans\n",
        "from sklearn.preprocessing import StandardScaler, normalize\n",
        "from sklearn.decomposition import PCA"
      ],
      "execution_count": null,
      "outputs": []
    },
    {
      "cell_type": "code",
      "metadata": {
        "id": "DG-4L6qMDnjJ"
      },
      "source": [
        "from sklearn.preprocessing import MinMaxScaler\n",
        "%matplotlib inline"
      ],
      "execution_count": null,
      "outputs": []
    },
    {
      "cell_type": "markdown",
      "metadata": {
        "id": "2gRhffjG-pxT"
      },
      "source": [
        "**Import data**"
      ]
    },
    {
      "cell_type": "code",
      "metadata": {
        "id": "qFZKUYJbHzHc"
      },
      "source": [
        "data = pd.read_csv('/content/countries of the world.csv', decimal=',')"
      ],
      "execution_count": null,
      "outputs": []
    },
    {
      "cell_type": "markdown",
      "metadata": {
        "id": "tCGpq2Fh-6on"
      },
      "source": [
        "**Number of rows in data**"
      ]
    },
    {
      "cell_type": "code",
      "metadata": {
        "colab": {
          "base_uri": "https://localhost:8080/"
        },
        "id": "jahxYc9kJBU4",
        "outputId": "3d994137-f67f-42b9-dc29-0026b7e3adee"
      },
      "source": [
        "data.shape"
      ],
      "execution_count": null,
      "outputs": [
        {
          "output_type": "execute_result",
          "data": {
            "text/plain": [
              "(227, 20)"
            ]
          },
          "metadata": {},
          "execution_count": 65
        }
      ]
    },
    {
      "cell_type": "code",
      "metadata": {
        "colab": {
          "base_uri": "https://localhost:8080/",
          "height": 719
        },
        "id": "3FOvkUy1JH8g",
        "outputId": "e395a466-b589-40c5-c265-43f8654684ec"
      },
      "source": [
        "data.head(10)"
      ],
      "execution_count": null,
      "outputs": [
        {
          "output_type": "execute_result",
          "data": {
            "text/html": [
              "<div>\n",
              "<style scoped>\n",
              "    .dataframe tbody tr th:only-of-type {\n",
              "        vertical-align: middle;\n",
              "    }\n",
              "\n",
              "    .dataframe tbody tr th {\n",
              "        vertical-align: top;\n",
              "    }\n",
              "\n",
              "    .dataframe thead th {\n",
              "        text-align: right;\n",
              "    }\n",
              "</style>\n",
              "<table border=\"1\" class=\"dataframe\">\n",
              "  <thead>\n",
              "    <tr style=\"text-align: right;\">\n",
              "      <th></th>\n",
              "      <th>Country</th>\n",
              "      <th>Region</th>\n",
              "      <th>Population</th>\n",
              "      <th>Area (sq. mi.)</th>\n",
              "      <th>Pop. Density (per sq. mi.)</th>\n",
              "      <th>Coastline (coast/area ratio)</th>\n",
              "      <th>Net migration</th>\n",
              "      <th>Infant mortality (per 1000 births)</th>\n",
              "      <th>GDP ($ per capita)</th>\n",
              "      <th>Literacy (%)</th>\n",
              "      <th>Phones (per 1000)</th>\n",
              "      <th>Arable (%)</th>\n",
              "      <th>Crops (%)</th>\n",
              "      <th>Other (%)</th>\n",
              "      <th>Climate</th>\n",
              "      <th>Birthrate</th>\n",
              "      <th>Deathrate</th>\n",
              "      <th>Agriculture</th>\n",
              "      <th>Industry</th>\n",
              "      <th>Service</th>\n",
              "    </tr>\n",
              "  </thead>\n",
              "  <tbody>\n",
              "    <tr>\n",
              "      <th>0</th>\n",
              "      <td>Afghanistan</td>\n",
              "      <td>ASIA (EX. NEAR EAST)</td>\n",
              "      <td>31056997</td>\n",
              "      <td>647500</td>\n",
              "      <td>48.0</td>\n",
              "      <td>0.00</td>\n",
              "      <td>23.06</td>\n",
              "      <td>163.07</td>\n",
              "      <td>700.0</td>\n",
              "      <td>36.0</td>\n",
              "      <td>3.2</td>\n",
              "      <td>12.13</td>\n",
              "      <td>0.22</td>\n",
              "      <td>87.65</td>\n",
              "      <td>1.0</td>\n",
              "      <td>46.60</td>\n",
              "      <td>20.34</td>\n",
              "      <td>0.380</td>\n",
              "      <td>0.240</td>\n",
              "      <td>0.380</td>\n",
              "    </tr>\n",
              "    <tr>\n",
              "      <th>1</th>\n",
              "      <td>Albania</td>\n",
              "      <td>EASTERN EUROPE</td>\n",
              "      <td>3581655</td>\n",
              "      <td>28748</td>\n",
              "      <td>124.6</td>\n",
              "      <td>1.26</td>\n",
              "      <td>-4.93</td>\n",
              "      <td>21.52</td>\n",
              "      <td>4500.0</td>\n",
              "      <td>86.5</td>\n",
              "      <td>71.2</td>\n",
              "      <td>21.09</td>\n",
              "      <td>4.42</td>\n",
              "      <td>74.49</td>\n",
              "      <td>3.0</td>\n",
              "      <td>15.11</td>\n",
              "      <td>5.22</td>\n",
              "      <td>0.232</td>\n",
              "      <td>0.188</td>\n",
              "      <td>0.579</td>\n",
              "    </tr>\n",
              "    <tr>\n",
              "      <th>2</th>\n",
              "      <td>Algeria</td>\n",
              "      <td>NORTHERN AFRICA</td>\n",
              "      <td>32930091</td>\n",
              "      <td>2381740</td>\n",
              "      <td>13.8</td>\n",
              "      <td>0.04</td>\n",
              "      <td>-0.39</td>\n",
              "      <td>31.00</td>\n",
              "      <td>6000.0</td>\n",
              "      <td>70.0</td>\n",
              "      <td>78.1</td>\n",
              "      <td>3.22</td>\n",
              "      <td>0.25</td>\n",
              "      <td>96.53</td>\n",
              "      <td>1.0</td>\n",
              "      <td>17.14</td>\n",
              "      <td>4.61</td>\n",
              "      <td>0.101</td>\n",
              "      <td>0.600</td>\n",
              "      <td>0.298</td>\n",
              "    </tr>\n",
              "    <tr>\n",
              "      <th>3</th>\n",
              "      <td>American Samoa</td>\n",
              "      <td>OCEANIA</td>\n",
              "      <td>57794</td>\n",
              "      <td>199</td>\n",
              "      <td>290.4</td>\n",
              "      <td>58.29</td>\n",
              "      <td>-20.71</td>\n",
              "      <td>9.27</td>\n",
              "      <td>8000.0</td>\n",
              "      <td>97.0</td>\n",
              "      <td>259.5</td>\n",
              "      <td>10.00</td>\n",
              "      <td>15.00</td>\n",
              "      <td>75.00</td>\n",
              "      <td>2.0</td>\n",
              "      <td>22.46</td>\n",
              "      <td>3.27</td>\n",
              "      <td>NaN</td>\n",
              "      <td>NaN</td>\n",
              "      <td>NaN</td>\n",
              "    </tr>\n",
              "    <tr>\n",
              "      <th>4</th>\n",
              "      <td>Andorra</td>\n",
              "      <td>WESTERN EUROPE</td>\n",
              "      <td>71201</td>\n",
              "      <td>468</td>\n",
              "      <td>152.1</td>\n",
              "      <td>0.00</td>\n",
              "      <td>6.60</td>\n",
              "      <td>4.05</td>\n",
              "      <td>19000.0</td>\n",
              "      <td>100.0</td>\n",
              "      <td>497.2</td>\n",
              "      <td>2.22</td>\n",
              "      <td>0.00</td>\n",
              "      <td>97.78</td>\n",
              "      <td>3.0</td>\n",
              "      <td>8.71</td>\n",
              "      <td>6.25</td>\n",
              "      <td>NaN</td>\n",
              "      <td>NaN</td>\n",
              "      <td>NaN</td>\n",
              "    </tr>\n",
              "    <tr>\n",
              "      <th>5</th>\n",
              "      <td>Angola</td>\n",
              "      <td>SUB-SAHARAN AFRICA</td>\n",
              "      <td>12127071</td>\n",
              "      <td>1246700</td>\n",
              "      <td>9.7</td>\n",
              "      <td>0.13</td>\n",
              "      <td>0.00</td>\n",
              "      <td>191.19</td>\n",
              "      <td>1900.0</td>\n",
              "      <td>42.0</td>\n",
              "      <td>7.8</td>\n",
              "      <td>2.41</td>\n",
              "      <td>0.24</td>\n",
              "      <td>97.35</td>\n",
              "      <td>NaN</td>\n",
              "      <td>45.11</td>\n",
              "      <td>24.20</td>\n",
              "      <td>0.096</td>\n",
              "      <td>0.658</td>\n",
              "      <td>0.246</td>\n",
              "    </tr>\n",
              "    <tr>\n",
              "      <th>6</th>\n",
              "      <td>Anguilla</td>\n",
              "      <td>LATIN AMER. &amp; CARIB</td>\n",
              "      <td>13477</td>\n",
              "      <td>102</td>\n",
              "      <td>132.1</td>\n",
              "      <td>59.80</td>\n",
              "      <td>10.76</td>\n",
              "      <td>21.03</td>\n",
              "      <td>8600.0</td>\n",
              "      <td>95.0</td>\n",
              "      <td>460.0</td>\n",
              "      <td>0.00</td>\n",
              "      <td>0.00</td>\n",
              "      <td>100.00</td>\n",
              "      <td>2.0</td>\n",
              "      <td>14.17</td>\n",
              "      <td>5.34</td>\n",
              "      <td>0.040</td>\n",
              "      <td>0.180</td>\n",
              "      <td>0.780</td>\n",
              "    </tr>\n",
              "    <tr>\n",
              "      <th>7</th>\n",
              "      <td>Antigua &amp; Barbuda</td>\n",
              "      <td>LATIN AMER. &amp; CARIB</td>\n",
              "      <td>69108</td>\n",
              "      <td>443</td>\n",
              "      <td>156.0</td>\n",
              "      <td>34.54</td>\n",
              "      <td>-6.15</td>\n",
              "      <td>19.46</td>\n",
              "      <td>11000.0</td>\n",
              "      <td>89.0</td>\n",
              "      <td>549.9</td>\n",
              "      <td>18.18</td>\n",
              "      <td>4.55</td>\n",
              "      <td>77.27</td>\n",
              "      <td>2.0</td>\n",
              "      <td>16.93</td>\n",
              "      <td>5.37</td>\n",
              "      <td>0.038</td>\n",
              "      <td>0.220</td>\n",
              "      <td>0.743</td>\n",
              "    </tr>\n",
              "    <tr>\n",
              "      <th>8</th>\n",
              "      <td>Argentina</td>\n",
              "      <td>LATIN AMER. &amp; CARIB</td>\n",
              "      <td>39921833</td>\n",
              "      <td>2766890</td>\n",
              "      <td>14.4</td>\n",
              "      <td>0.18</td>\n",
              "      <td>0.61</td>\n",
              "      <td>15.18</td>\n",
              "      <td>11200.0</td>\n",
              "      <td>97.1</td>\n",
              "      <td>220.4</td>\n",
              "      <td>12.31</td>\n",
              "      <td>0.48</td>\n",
              "      <td>87.21</td>\n",
              "      <td>3.0</td>\n",
              "      <td>16.73</td>\n",
              "      <td>7.55</td>\n",
              "      <td>0.095</td>\n",
              "      <td>0.358</td>\n",
              "      <td>0.547</td>\n",
              "    </tr>\n",
              "    <tr>\n",
              "      <th>9</th>\n",
              "      <td>Armenia</td>\n",
              "      <td>C.W. OF IND. STATES</td>\n",
              "      <td>2976372</td>\n",
              "      <td>29800</td>\n",
              "      <td>99.9</td>\n",
              "      <td>0.00</td>\n",
              "      <td>-6.47</td>\n",
              "      <td>23.28</td>\n",
              "      <td>3500.0</td>\n",
              "      <td>98.6</td>\n",
              "      <td>195.7</td>\n",
              "      <td>17.55</td>\n",
              "      <td>2.30</td>\n",
              "      <td>80.15</td>\n",
              "      <td>4.0</td>\n",
              "      <td>12.07</td>\n",
              "      <td>8.23</td>\n",
              "      <td>0.239</td>\n",
              "      <td>0.343</td>\n",
              "      <td>0.418</td>\n",
              "    </tr>\n",
              "  </tbody>\n",
              "</table>\n",
              "</div>"
            ],
            "text/plain": [
              "              Country                               Region  ...  Industry  Service\n",
              "0        Afghanistan         ASIA (EX. NEAR EAST)           ...     0.240    0.380\n",
              "1            Albania   EASTERN EUROPE                       ...     0.188    0.579\n",
              "2            Algeria   NORTHERN AFRICA                      ...     0.600    0.298\n",
              "3     American Samoa   OCEANIA                              ...       NaN      NaN\n",
              "4            Andorra   WESTERN EUROPE                       ...       NaN      NaN\n",
              "5             Angola   SUB-SAHARAN AFRICA                   ...     0.658    0.246\n",
              "6           Anguilla               LATIN AMER. & CARIB      ...     0.180    0.780\n",
              "7  Antigua & Barbuda               LATIN AMER. & CARIB      ...     0.220    0.743\n",
              "8          Argentina               LATIN AMER. & CARIB      ...     0.358    0.547\n",
              "9            Armenia                  C.W. OF IND. STATES   ...     0.343    0.418\n",
              "\n",
              "[10 rows x 20 columns]"
            ]
          },
          "metadata": {},
          "execution_count": 66
        }
      ]
    },
    {
      "cell_type": "markdown",
      "metadata": {
        "id": "wJHm6FwV_NXN"
      },
      "source": [
        "**Display number of columns in data**"
      ]
    },
    {
      "cell_type": "code",
      "metadata": {
        "colab": {
          "base_uri": "https://localhost:8080/"
        },
        "id": "wr2EO-kfJ7lX",
        "outputId": "40608b27-bb91-4b39-e65c-a3a59cd61886"
      },
      "source": [
        "data.info()"
      ],
      "execution_count": null,
      "outputs": [
        {
          "output_type": "stream",
          "name": "stdout",
          "text": [
            "<class 'pandas.core.frame.DataFrame'>\n",
            "RangeIndex: 227 entries, 0 to 226\n",
            "Data columns (total 20 columns):\n",
            " #   Column                              Non-Null Count  Dtype  \n",
            "---  ------                              --------------  -----  \n",
            " 0   Country                             227 non-null    object \n",
            " 1   Region                              227 non-null    object \n",
            " 2   Population                          227 non-null    int64  \n",
            " 3   Area (sq. mi.)                      227 non-null    int64  \n",
            " 4   Pop. Density (per sq. mi.)          227 non-null    float64\n",
            " 5   Coastline (coast/area ratio)        227 non-null    float64\n",
            " 6   Net migration                       224 non-null    float64\n",
            " 7   Infant mortality (per 1000 births)  224 non-null    float64\n",
            " 8   GDP ($ per capita)                  226 non-null    float64\n",
            " 9   Literacy (%)                        209 non-null    float64\n",
            " 10  Phones (per 1000)                   223 non-null    float64\n",
            " 11  Arable (%)                          225 non-null    float64\n",
            " 12  Crops (%)                           225 non-null    float64\n",
            " 13  Other (%)                           225 non-null    float64\n",
            " 14  Climate                             205 non-null    float64\n",
            " 15  Birthrate                           224 non-null    float64\n",
            " 16  Deathrate                           223 non-null    float64\n",
            " 17  Agriculture                         212 non-null    float64\n",
            " 18  Industry                            211 non-null    float64\n",
            " 19  Service                             212 non-null    float64\n",
            "dtypes: float64(16), int64(2), object(2)\n",
            "memory usage: 35.6+ KB\n"
          ]
        }
      ]
    },
    {
      "cell_type": "markdown",
      "metadata": {
        "id": "wKm3oADr_lM3"
      },
      "source": [
        "**List all the functions in data**"
      ]
    },
    {
      "cell_type": "code",
      "metadata": {
        "colab": {
          "base_uri": "https://localhost:8080/",
          "height": 368
        },
        "id": "NbI86yGfKBj0",
        "outputId": "004e1163-21da-40a3-dfb4-620c3fa80792"
      },
      "source": [
        "data.describe()"
      ],
      "execution_count": null,
      "outputs": [
        {
          "output_type": "execute_result",
          "data": {
            "text/html": [
              "<div>\n",
              "<style scoped>\n",
              "    .dataframe tbody tr th:only-of-type {\n",
              "        vertical-align: middle;\n",
              "    }\n",
              "\n",
              "    .dataframe tbody tr th {\n",
              "        vertical-align: top;\n",
              "    }\n",
              "\n",
              "    .dataframe thead th {\n",
              "        text-align: right;\n",
              "    }\n",
              "</style>\n",
              "<table border=\"1\" class=\"dataframe\">\n",
              "  <thead>\n",
              "    <tr style=\"text-align: right;\">\n",
              "      <th></th>\n",
              "      <th>Population</th>\n",
              "      <th>Area (sq. mi.)</th>\n",
              "      <th>Pop. Density (per sq. mi.)</th>\n",
              "      <th>Coastline (coast/area ratio)</th>\n",
              "      <th>Net migration</th>\n",
              "      <th>Infant mortality (per 1000 births)</th>\n",
              "      <th>GDP ($ per capita)</th>\n",
              "      <th>Literacy (%)</th>\n",
              "      <th>Phones (per 1000)</th>\n",
              "      <th>Arable (%)</th>\n",
              "      <th>Crops (%)</th>\n",
              "      <th>Other (%)</th>\n",
              "      <th>Climate</th>\n",
              "      <th>Birthrate</th>\n",
              "      <th>Deathrate</th>\n",
              "      <th>Agriculture</th>\n",
              "      <th>Industry</th>\n",
              "      <th>Service</th>\n",
              "    </tr>\n",
              "  </thead>\n",
              "  <tbody>\n",
              "    <tr>\n",
              "      <th>count</th>\n",
              "      <td>2.270000e+02</td>\n",
              "      <td>2.270000e+02</td>\n",
              "      <td>227.000000</td>\n",
              "      <td>227.000000</td>\n",
              "      <td>224.000000</td>\n",
              "      <td>224.000000</td>\n",
              "      <td>226.000000</td>\n",
              "      <td>209.000000</td>\n",
              "      <td>223.000000</td>\n",
              "      <td>225.000000</td>\n",
              "      <td>225.000000</td>\n",
              "      <td>225.000000</td>\n",
              "      <td>205.000000</td>\n",
              "      <td>224.000000</td>\n",
              "      <td>223.000000</td>\n",
              "      <td>212.000000</td>\n",
              "      <td>211.000000</td>\n",
              "      <td>212.000000</td>\n",
              "    </tr>\n",
              "    <tr>\n",
              "      <th>mean</th>\n",
              "      <td>2.874028e+07</td>\n",
              "      <td>5.982270e+05</td>\n",
              "      <td>379.047137</td>\n",
              "      <td>21.165330</td>\n",
              "      <td>0.038125</td>\n",
              "      <td>35.506964</td>\n",
              "      <td>9689.823009</td>\n",
              "      <td>82.838278</td>\n",
              "      <td>236.061435</td>\n",
              "      <td>13.797111</td>\n",
              "      <td>4.564222</td>\n",
              "      <td>81.638311</td>\n",
              "      <td>2.139024</td>\n",
              "      <td>22.114732</td>\n",
              "      <td>9.241345</td>\n",
              "      <td>0.150844</td>\n",
              "      <td>0.282711</td>\n",
              "      <td>0.565283</td>\n",
              "    </tr>\n",
              "    <tr>\n",
              "      <th>std</th>\n",
              "      <td>1.178913e+08</td>\n",
              "      <td>1.790282e+06</td>\n",
              "      <td>1660.185825</td>\n",
              "      <td>72.286863</td>\n",
              "      <td>4.889269</td>\n",
              "      <td>35.389899</td>\n",
              "      <td>10049.138513</td>\n",
              "      <td>19.722173</td>\n",
              "      <td>227.991829</td>\n",
              "      <td>13.040402</td>\n",
              "      <td>8.361470</td>\n",
              "      <td>16.140835</td>\n",
              "      <td>0.699397</td>\n",
              "      <td>11.176716</td>\n",
              "      <td>4.990026</td>\n",
              "      <td>0.146798</td>\n",
              "      <td>0.138272</td>\n",
              "      <td>0.165841</td>\n",
              "    </tr>\n",
              "    <tr>\n",
              "      <th>min</th>\n",
              "      <td>7.026000e+03</td>\n",
              "      <td>2.000000e+00</td>\n",
              "      <td>0.000000</td>\n",
              "      <td>0.000000</td>\n",
              "      <td>-20.990000</td>\n",
              "      <td>2.290000</td>\n",
              "      <td>500.000000</td>\n",
              "      <td>17.600000</td>\n",
              "      <td>0.200000</td>\n",
              "      <td>0.000000</td>\n",
              "      <td>0.000000</td>\n",
              "      <td>33.330000</td>\n",
              "      <td>1.000000</td>\n",
              "      <td>7.290000</td>\n",
              "      <td>2.290000</td>\n",
              "      <td>0.000000</td>\n",
              "      <td>0.020000</td>\n",
              "      <td>0.062000</td>\n",
              "    </tr>\n",
              "    <tr>\n",
              "      <th>25%</th>\n",
              "      <td>4.376240e+05</td>\n",
              "      <td>4.647500e+03</td>\n",
              "      <td>29.150000</td>\n",
              "      <td>0.100000</td>\n",
              "      <td>-0.927500</td>\n",
              "      <td>8.150000</td>\n",
              "      <td>1900.000000</td>\n",
              "      <td>70.600000</td>\n",
              "      <td>37.800000</td>\n",
              "      <td>3.220000</td>\n",
              "      <td>0.190000</td>\n",
              "      <td>71.650000</td>\n",
              "      <td>2.000000</td>\n",
              "      <td>12.672500</td>\n",
              "      <td>5.910000</td>\n",
              "      <td>0.037750</td>\n",
              "      <td>0.193000</td>\n",
              "      <td>0.429250</td>\n",
              "    </tr>\n",
              "    <tr>\n",
              "      <th>50%</th>\n",
              "      <td>4.786994e+06</td>\n",
              "      <td>8.660000e+04</td>\n",
              "      <td>78.800000</td>\n",
              "      <td>0.730000</td>\n",
              "      <td>0.000000</td>\n",
              "      <td>21.000000</td>\n",
              "      <td>5550.000000</td>\n",
              "      <td>92.500000</td>\n",
              "      <td>176.200000</td>\n",
              "      <td>10.420000</td>\n",
              "      <td>1.030000</td>\n",
              "      <td>85.700000</td>\n",
              "      <td>2.000000</td>\n",
              "      <td>18.790000</td>\n",
              "      <td>7.840000</td>\n",
              "      <td>0.099000</td>\n",
              "      <td>0.272000</td>\n",
              "      <td>0.571000</td>\n",
              "    </tr>\n",
              "    <tr>\n",
              "      <th>75%</th>\n",
              "      <td>1.749777e+07</td>\n",
              "      <td>4.418110e+05</td>\n",
              "      <td>190.150000</td>\n",
              "      <td>10.345000</td>\n",
              "      <td>0.997500</td>\n",
              "      <td>55.705000</td>\n",
              "      <td>15700.000000</td>\n",
              "      <td>98.000000</td>\n",
              "      <td>389.650000</td>\n",
              "      <td>20.000000</td>\n",
              "      <td>4.440000</td>\n",
              "      <td>95.440000</td>\n",
              "      <td>3.000000</td>\n",
              "      <td>29.820000</td>\n",
              "      <td>10.605000</td>\n",
              "      <td>0.221000</td>\n",
              "      <td>0.341000</td>\n",
              "      <td>0.678500</td>\n",
              "    </tr>\n",
              "    <tr>\n",
              "      <th>max</th>\n",
              "      <td>1.313974e+09</td>\n",
              "      <td>1.707520e+07</td>\n",
              "      <td>16271.500000</td>\n",
              "      <td>870.660000</td>\n",
              "      <td>23.060000</td>\n",
              "      <td>191.190000</td>\n",
              "      <td>55100.000000</td>\n",
              "      <td>100.000000</td>\n",
              "      <td>1035.600000</td>\n",
              "      <td>62.110000</td>\n",
              "      <td>50.680000</td>\n",
              "      <td>100.000000</td>\n",
              "      <td>4.000000</td>\n",
              "      <td>50.730000</td>\n",
              "      <td>29.740000</td>\n",
              "      <td>0.769000</td>\n",
              "      <td>0.906000</td>\n",
              "      <td>0.954000</td>\n",
              "    </tr>\n",
              "  </tbody>\n",
              "</table>\n",
              "</div>"
            ],
            "text/plain": [
              "         Population  Area (sq. mi.)  ...    Industry     Service\n",
              "count  2.270000e+02    2.270000e+02  ...  211.000000  212.000000\n",
              "mean   2.874028e+07    5.982270e+05  ...    0.282711    0.565283\n",
              "std    1.178913e+08    1.790282e+06  ...    0.138272    0.165841\n",
              "min    7.026000e+03    2.000000e+00  ...    0.020000    0.062000\n",
              "25%    4.376240e+05    4.647500e+03  ...    0.193000    0.429250\n",
              "50%    4.786994e+06    8.660000e+04  ...    0.272000    0.571000\n",
              "75%    1.749777e+07    4.418110e+05  ...    0.341000    0.678500\n",
              "max    1.313974e+09    1.707520e+07  ...    0.906000    0.954000\n",
              "\n",
              "[8 rows x 18 columns]"
            ]
          },
          "metadata": {},
          "execution_count": 68
        }
      ]
    },
    {
      "cell_type": "code",
      "metadata": {
        "colab": {
          "base_uri": "https://localhost:8080/"
        },
        "id": "REWvj7BuLlGC",
        "outputId": "59fd3228-7229-4263-c76d-ddc9d0c54506"
      },
      "source": [
        "data.info()"
      ],
      "execution_count": null,
      "outputs": [
        {
          "output_type": "stream",
          "name": "stdout",
          "text": [
            "<class 'pandas.core.frame.DataFrame'>\n",
            "RangeIndex: 227 entries, 0 to 226\n",
            "Data columns (total 20 columns):\n",
            " #   Column                              Non-Null Count  Dtype  \n",
            "---  ------                              --------------  -----  \n",
            " 0   Country                             227 non-null    object \n",
            " 1   Region                              227 non-null    object \n",
            " 2   Population                          227 non-null    int64  \n",
            " 3   Area (sq. mi.)                      227 non-null    int64  \n",
            " 4   Pop. Density (per sq. mi.)          227 non-null    float64\n",
            " 5   Coastline (coast/area ratio)        227 non-null    float64\n",
            " 6   Net migration                       224 non-null    float64\n",
            " 7   Infant mortality (per 1000 births)  224 non-null    float64\n",
            " 8   GDP ($ per capita)                  226 non-null    float64\n",
            " 9   Literacy (%)                        209 non-null    float64\n",
            " 10  Phones (per 1000)                   223 non-null    float64\n",
            " 11  Arable (%)                          225 non-null    float64\n",
            " 12  Crops (%)                           225 non-null    float64\n",
            " 13  Other (%)                           225 non-null    float64\n",
            " 14  Climate                             205 non-null    float64\n",
            " 15  Birthrate                           224 non-null    float64\n",
            " 16  Deathrate                           223 non-null    float64\n",
            " 17  Agriculture                         212 non-null    float64\n",
            " 18  Industry                            211 non-null    float64\n",
            " 19  Service                             212 non-null    float64\n",
            "dtypes: float64(16), int64(2), object(2)\n",
            "memory usage: 35.6+ KB\n"
          ]
        }
      ]
    },
    {
      "cell_type": "markdown",
      "metadata": {
        "id": "UUn76slnve_7"
      },
      "source": [
        "**Drop null value rows**"
      ]
    },
    {
      "cell_type": "code",
      "metadata": {
        "id": "TEAwFmFABQmn"
      },
      "source": [
        "data = data.dropna()"
      ],
      "execution_count": null,
      "outputs": []
    },
    {
      "cell_type": "code",
      "metadata": {
        "colab": {
          "base_uri": "https://localhost:8080/"
        },
        "id": "1DGqv-lZBZkM",
        "outputId": "e00f36ec-581b-472e-9d61-685a85c1d50b"
      },
      "source": [
        "data.info()"
      ],
      "execution_count": null,
      "outputs": [
        {
          "output_type": "stream",
          "name": "stdout",
          "text": [
            "<class 'pandas.core.frame.DataFrame'>\n",
            "Int64Index: 179 entries, 0 to 226\n",
            "Data columns (total 20 columns):\n",
            " #   Column                              Non-Null Count  Dtype  \n",
            "---  ------                              --------------  -----  \n",
            " 0   Country                             179 non-null    object \n",
            " 1   Region                              179 non-null    object \n",
            " 2   Population                          179 non-null    int64  \n",
            " 3   Area (sq. mi.)                      179 non-null    int64  \n",
            " 4   Pop. Density (per sq. mi.)          179 non-null    float64\n",
            " 5   Coastline (coast/area ratio)        179 non-null    float64\n",
            " 6   Net migration                       179 non-null    float64\n",
            " 7   Infant mortality (per 1000 births)  179 non-null    float64\n",
            " 8   GDP ($ per capita)                  179 non-null    float64\n",
            " 9   Literacy (%)                        179 non-null    float64\n",
            " 10  Phones (per 1000)                   179 non-null    float64\n",
            " 11  Arable (%)                          179 non-null    float64\n",
            " 12  Crops (%)                           179 non-null    float64\n",
            " 13  Other (%)                           179 non-null    float64\n",
            " 14  Climate                             179 non-null    float64\n",
            " 15  Birthrate                           179 non-null    float64\n",
            " 16  Deathrate                           179 non-null    float64\n",
            " 17  Agriculture                         179 non-null    float64\n",
            " 18  Industry                            179 non-null    float64\n",
            " 19  Service                             179 non-null    float64\n",
            "dtypes: float64(16), int64(2), object(2)\n",
            "memory usage: 29.4+ KB\n"
          ]
        }
      ]
    },
    {
      "cell_type": "markdown",
      "metadata": {
        "id": "N4qzF5mJCiNy"
      },
      "source": [
        "**Preprocess the data delete unwanted rows**"
      ]
    },
    {
      "cell_type": "code",
      "metadata": {
        "id": "a3uGISsMwFdC"
      },
      "source": [
        "del data['Arable (%)']\n",
        "del data['Crops (%)']\n",
        "del data['Other (%)']\n",
        "del data['Climate']"
      ],
      "execution_count": null,
      "outputs": []
    },
    {
      "cell_type": "code",
      "metadata": {
        "colab": {
          "base_uri": "https://localhost:8080/",
          "height": 296
        },
        "id": "6Ib8c5NdDweV",
        "outputId": "1b61ae80-8ec0-4bc8-e659-8b4d680b50d2"
      },
      "source": [
        "plt.scatter(data.Birthrate,data['Service'])\n",
        "plt.xlabel('Birthrate')\n",
        "plt.ylabel('Infant mortality (per 1000 births)')"
      ],
      "execution_count": null,
      "outputs": [
        {
          "output_type": "execute_result",
          "data": {
            "text/plain": [
              "Text(0, 0.5, 'Infant mortality (per 1000 births)')"
            ]
          },
          "metadata": {},
          "execution_count": 73
        },
        {
          "output_type": "display_data",
          "data": {
            "image/png": "[encoded data removed]",
            "text/plain": [
              "<Figure size 432x288 with 1 Axes>"
            ]
          },
          "metadata": {
            "needs_background": "light"
          }
        }
      ]
    },
    {
      "cell_type": "code",
      "metadata": {
        "colab": {
          "base_uri": "https://localhost:8080/"
        },
        "id": "WU4rGS3qE791",
        "outputId": "b84669e4-3aba-414b-a175-9da62c972988"
      },
      "source": [
        "km = KMeans(n_clusters=3)\n",
        "y_predicted = km.fit_predict(data[['Literacy (%)','Infant mortality (per 1000 births)']])\n",
        "y_predicted"
      ],
      "execution_count": null,
      "outputs": [
        {
          "output_type": "execute_result",
          "data": {
            "text/plain": [
              "array([0, 1, 1, 1, 1, 1, 1, 1, 1, 1, 2, 1, 1, 2, 1, 1, 1, 1, 0, 1, 0, 2,\n",
              "       2, 1, 1, 1, 1, 0, 2, 2, 2, 2, 2, 1, 0, 0, 1, 1, 1, 2, 0, 2, 1, 0,\n",
              "       1, 1, 1, 0, 1, 1, 1, 2, 1, 2, 2, 1, 0, 1, 1, 1, 1, 1, 2, 2, 1, 1,\n",
              "       2, 1, 1, 1, 2, 0, 0, 1, 2, 1, 1, 1, 1, 2, 1, 2, 2, 1, 1, 1, 1, 1,\n",
              "       1, 2, 1, 1, 1, 1, 2, 1, 2, 0, 1, 1, 2, 0, 1, 2, 0, 1, 1, 2, 1, 1,\n",
              "       1, 2, 0, 2, 1, 1, 1, 1, 1, 0, 0, 1, 1, 2, 1, 1, 2, 1, 1, 1, 1, 1,\n",
              "       1, 1, 1, 1, 0, 1, 1, 1, 1, 2, 1, 2, 1, 0, 1, 0, 2, 1, 1, 2, 1, 2,\n",
              "       1, 1, 1, 1, 0, 1, 2, 1, 1, 1, 1, 2, 2, 1, 1, 1, 1, 1, 2, 2, 1, 1,\n",
              "       2, 2, 2], dtype=int32)"
            ]
          },
          "metadata": {},
          "execution_count": 74
        }
      ]
    },
    {
      "cell_type": "code",
      "metadata": {
        "colab": {
          "base_uri": "https://localhost:8080/",
          "height": 428
        },
        "id": "CG3pkaU3FWIR",
        "outputId": "a257362e-f1c5-4ec2-fe0d-45ceaa3eb5ca"
      },
      "source": [
        "data['cluster']=y_predicted\n",
        "data.head()"
      ],
      "execution_count": null,
      "outputs": [
        {
          "output_type": "execute_result",
          "data": {
            "text/html": [
              "<div>\n",
              "<style scoped>\n",
              "    .dataframe tbody tr th:only-of-type {\n",
              "        vertical-align: middle;\n",
              "    }\n",
              "\n",
              "    .dataframe tbody tr th {\n",
              "        vertical-align: top;\n",
              "    }\n",
              "\n",
              "    .dataframe thead th {\n",
              "        text-align: right;\n",
              "    }\n",
              "</style>\n",
              "<table border=\"1\" class=\"dataframe\">\n",
              "  <thead>\n",
              "    <tr style=\"text-align: right;\">\n",
              "      <th></th>\n",
              "      <th>Country</th>\n",
              "      <th>Region</th>\n",
              "      <th>Population</th>\n",
              "      <th>Area (sq. mi.)</th>\n",
              "      <th>Pop. Density (per sq. mi.)</th>\n",
              "      <th>Coastline (coast/area ratio)</th>\n",
              "      <th>Net migration</th>\n",
              "      <th>Infant mortality (per 1000 births)</th>\n",
              "      <th>GDP ($ per capita)</th>\n",
              "      <th>Literacy (%)</th>\n",
              "      <th>Phones (per 1000)</th>\n",
              "      <th>Birthrate</th>\n",
              "      <th>Deathrate</th>\n",
              "      <th>Agriculture</th>\n",
              "      <th>Industry</th>\n",
              "      <th>Service</th>\n",
              "      <th>cluster</th>\n",
              "    </tr>\n",
              "  </thead>\n",
              "  <tbody>\n",
              "    <tr>\n",
              "      <th>0</th>\n",
              "      <td>Afghanistan</td>\n",
              "      <td>ASIA (EX. NEAR EAST)</td>\n",
              "      <td>31056997</td>\n",
              "      <td>647500</td>\n",
              "      <td>48.0</td>\n",
              "      <td>0.00</td>\n",
              "      <td>23.06</td>\n",
              "      <td>163.07</td>\n",
              "      <td>700.0</td>\n",
              "      <td>36.0</td>\n",
              "      <td>3.2</td>\n",
              "      <td>46.60</td>\n",
              "      <td>20.34</td>\n",
              "      <td>0.380</td>\n",
              "      <td>0.240</td>\n",
              "      <td>0.380</td>\n",
              "      <td>0</td>\n",
              "    </tr>\n",
              "    <tr>\n",
              "      <th>1</th>\n",
              "      <td>Albania</td>\n",
              "      <td>EASTERN EUROPE</td>\n",
              "      <td>3581655</td>\n",
              "      <td>28748</td>\n",
              "      <td>124.6</td>\n",
              "      <td>1.26</td>\n",
              "      <td>-4.93</td>\n",
              "      <td>21.52</td>\n",
              "      <td>4500.0</td>\n",
              "      <td>86.5</td>\n",
              "      <td>71.2</td>\n",
              "      <td>15.11</td>\n",
              "      <td>5.22</td>\n",
              "      <td>0.232</td>\n",
              "      <td>0.188</td>\n",
              "      <td>0.579</td>\n",
              "      <td>1</td>\n",
              "    </tr>\n",
              "    <tr>\n",
              "      <th>2</th>\n",
              "      <td>Algeria</td>\n",
              "      <td>NORTHERN AFRICA</td>\n",
              "      <td>32930091</td>\n",
              "      <td>2381740</td>\n",
              "      <td>13.8</td>\n",
              "      <td>0.04</td>\n",
              "      <td>-0.39</td>\n",
              "      <td>31.00</td>\n",
              "      <td>6000.0</td>\n",
              "      <td>70.0</td>\n",
              "      <td>78.1</td>\n",
              "      <td>17.14</td>\n",
              "      <td>4.61</td>\n",
              "      <td>0.101</td>\n",
              "      <td>0.600</td>\n",
              "      <td>0.298</td>\n",
              "      <td>1</td>\n",
              "    </tr>\n",
              "    <tr>\n",
              "      <th>6</th>\n",
              "      <td>Anguilla</td>\n",
              "      <td>LATIN AMER. &amp; CARIB</td>\n",
              "      <td>13477</td>\n",
              "      <td>102</td>\n",
              "      <td>132.1</td>\n",
              "      <td>59.80</td>\n",
              "      <td>10.76</td>\n",
              "      <td>21.03</td>\n",
              "      <td>8600.0</td>\n",
              "      <td>95.0</td>\n",
              "      <td>460.0</td>\n",
              "      <td>14.17</td>\n",
              "      <td>5.34</td>\n",
              "      <td>0.040</td>\n",
              "      <td>0.180</td>\n",
              "      <td>0.780</td>\n",
              "      <td>1</td>\n",
              "    </tr>\n",
              "    <tr>\n",
              "      <th>7</th>\n",
              "      <td>Antigua &amp; Barbuda</td>\n",
              "      <td>LATIN AMER. &amp; CARIB</td>\n",
              "      <td>69108</td>\n",
              "      <td>443</td>\n",
              "      <td>156.0</td>\n",
              "      <td>34.54</td>\n",
              "      <td>-6.15</td>\n",
              "      <td>19.46</td>\n",
              "      <td>11000.0</td>\n",
              "      <td>89.0</td>\n",
              "      <td>549.9</td>\n",
              "      <td>16.93</td>\n",
              "      <td>5.37</td>\n",
              "      <td>0.038</td>\n",
              "      <td>0.220</td>\n",
              "      <td>0.743</td>\n",
              "      <td>1</td>\n",
              "    </tr>\n",
              "  </tbody>\n",
              "</table>\n",
              "</div>"
            ],
            "text/plain": [
              "              Country                               Region  ...  Service  cluster\n",
              "0        Afghanistan         ASIA (EX. NEAR EAST)           ...    0.380        0\n",
              "1            Albania   EASTERN EUROPE                       ...    0.579        1\n",
              "2            Algeria   NORTHERN AFRICA                      ...    0.298        1\n",
              "6           Anguilla               LATIN AMER. & CARIB      ...    0.780        1\n",
              "7  Antigua & Barbuda               LATIN AMER. & CARIB      ...    0.743        1\n",
              "\n",
              "[5 rows x 17 columns]"
            ]
          },
          "metadata": {},
          "execution_count": 75
        }
      ]
    },
    {
      "cell_type": "code",
      "metadata": {
        "colab": {
          "base_uri": "https://localhost:8080/"
        },
        "id": "v0xB_HVeFkDN",
        "outputId": "0a21b4cc-ef68-445d-fbaf-ac51a00fe483"
      },
      "source": [
        "km.cluster_centers_"
      ],
      "execution_count": null,
      "outputs": [
        {
          "output_type": "execute_result",
          "data": {
            "text/plain": [
              "array([[ 49.47727273, 108.        ],\n",
              "       [ 92.85625   ,  15.26294643],\n",
              "       [ 70.65777778,  63.94044444]])"
            ]
          },
          "metadata": {},
          "execution_count": 76
        }
      ]
    },
    {
      "cell_type": "code",
      "metadata": {
        "colab": {
          "base_uri": "https://localhost:8080/",
          "height": 296
        },
        "id": "1DdX0OuVIlsz",
        "outputId": "0235a8cc-0de5-4408-b12a-04de2ed07648"
      },
      "source": [
        "df1 = data[data.cluster==0]\n",
        "df2 = data[data.cluster==1]\n",
        "df3 = data[data.cluster==2]\n",
        "plt.scatter(df1.Birthrate,df1['Birthrate'],color='blue')\n",
        "plt.scatter(df2.Birthrate,df2['Literacy (%)'],color='red')\n",
        "plt.scatter(df3.Birthrate,df3['Infant mortality (per 1000 births)'],color='black')\n",
        "plt.scatter(km.cluster_centers_[:,0],km.cluster_centers_[:,1],color='purple',marker='*',label='centroid')\n",
        "plt.xlabel('Infant mortality (per 1000 births)')\n",
        "plt.ylabel('Literacy (%)')\n",
        "plt.legend()"
      ],
      "execution_count": null,
      "outputs": [
        {
          "output_type": "execute_result",
          "data": {
            "text/plain": [
              "<matplotlib.legend.Legend at 0x7ff4ba247a10>"
            ]
          },
          "metadata": {},
          "execution_count": 78
        },
        {
          "output_type": "display_data",
          "data": {
            "image/png": "[encoded data removed]",
            "text/plain": [
              "<Figure size 432x288 with 1 Axes>"
            ]
          },
          "metadata": {
            "needs_background": "light"
          }
        }
      ]
    },
    {
      "cell_type": "markdown",
      "metadata": {
        "id": "IT2yuFNFMhi0"
      },
      "source": [
        "**Preprocessing using min max scaler**"
      ]
    },
    {
      "cell_type": "code",
      "metadata": {
        "id": "nHZPSth4KCFj"
      },
      "source": [
        "scaler = MinMaxScaler()\n",
        "\n",
        "scaler.fit(data[['Literacy (%)']])\n",
        "data['Literacy (%)'] = scaler.transform(data[['Literacy (%)']])\n",
        "\n",
        "scaler.fit(data[['Infant mortality (per 1000 births)']])\n",
        "data['Infant mortality (per 1000 births)'] = scaler.transform(data[['Infant mortality (per 1000 births)']])"
      ],
      "execution_count": null,
      "outputs": []
    },
    {
      "cell_type": "code",
      "metadata": {
        "colab": {
          "base_uri": "https://localhost:8080/",
          "height": 428
        },
        "id": "-Im1gAbAKbsP",
        "outputId": "a460a1eb-6fd6-4daf-b5a6-399fdab9f0fa"
      },
      "source": [
        "data.head()"
      ],
      "execution_count": null,
      "outputs": [
        {
          "output_type": "execute_result",
          "data": {
            "text/html": [
              "<div>\n",
              "<style scoped>\n",
              "    .dataframe tbody tr th:only-of-type {\n",
              "        vertical-align: middle;\n",
              "    }\n",
              "\n",
              "    .dataframe tbody tr th {\n",
              "        vertical-align: top;\n",
              "    }\n",
              "\n",
              "    .dataframe thead th {\n",
              "        text-align: right;\n",
              "    }\n",
              "</style>\n",
              "<table border=\"1\" class=\"dataframe\">\n",
              "  <thead>\n",
              "    <tr style=\"text-align: right;\">\n",
              "      <th></th>\n",
              "      <th>Country</th>\n",
              "      <th>Region</th>\n",
              "      <th>Population</th>\n",
              "      <th>Area (sq. mi.)</th>\n",
              "      <th>Pop. Density (per sq. mi.)</th>\n",
              "      <th>Coastline (coast/area ratio)</th>\n",
              "      <th>Net migration</th>\n",
              "      <th>Infant mortality (per 1000 births)</th>\n",
              "      <th>GDP ($ per capita)</th>\n",
              "      <th>Literacy (%)</th>\n",
              "      <th>Phones (per 1000)</th>\n",
              "      <th>Birthrate</th>\n",
              "      <th>Deathrate</th>\n",
              "      <th>Agriculture</th>\n",
              "      <th>Industry</th>\n",
              "      <th>Service</th>\n",
              "      <th>cluster</th>\n",
              "    </tr>\n",
              "  </thead>\n",
              "  <tbody>\n",
              "    <tr>\n",
              "      <th>0</th>\n",
              "      <td>Afghanistan</td>\n",
              "      <td>ASIA (EX. NEAR EAST)</td>\n",
              "      <td>31056997</td>\n",
              "      <td>647500</td>\n",
              "      <td>48.0</td>\n",
              "      <td>0.00</td>\n",
              "      <td>23.06</td>\n",
              "      <td>1.000000</td>\n",
              "      <td>700.0</td>\n",
              "      <td>0.223301</td>\n",
              "      <td>3.2</td>\n",
              "      <td>46.60</td>\n",
              "      <td>20.34</td>\n",
              "      <td>0.380</td>\n",
              "      <td>0.240</td>\n",
              "      <td>0.380</td>\n",
              "      <td>0</td>\n",
              "    </tr>\n",
              "    <tr>\n",
              "      <th>1</th>\n",
              "      <td>Albania</td>\n",
              "      <td>EASTERN EUROPE</td>\n",
              "      <td>3581655</td>\n",
              "      <td>28748</td>\n",
              "      <td>124.6</td>\n",
              "      <td>1.26</td>\n",
              "      <td>-4.93</td>\n",
              "      <td>0.119604</td>\n",
              "      <td>4500.0</td>\n",
              "      <td>0.836165</td>\n",
              "      <td>71.2</td>\n",
              "      <td>15.11</td>\n",
              "      <td>5.22</td>\n",
              "      <td>0.232</td>\n",
              "      <td>0.188</td>\n",
              "      <td>0.579</td>\n",
              "      <td>1</td>\n",
              "    </tr>\n",
              "    <tr>\n",
              "      <th>2</th>\n",
              "      <td>Algeria</td>\n",
              "      <td>NORTHERN AFRICA</td>\n",
              "      <td>32930091</td>\n",
              "      <td>2381740</td>\n",
              "      <td>13.8</td>\n",
              "      <td>0.04</td>\n",
              "      <td>-0.39</td>\n",
              "      <td>0.178567</td>\n",
              "      <td>6000.0</td>\n",
              "      <td>0.635922</td>\n",
              "      <td>78.1</td>\n",
              "      <td>17.14</td>\n",
              "      <td>4.61</td>\n",
              "      <td>0.101</td>\n",
              "      <td>0.600</td>\n",
              "      <td>0.298</td>\n",
              "      <td>1</td>\n",
              "    </tr>\n",
              "    <tr>\n",
              "      <th>6</th>\n",
              "      <td>Anguilla</td>\n",
              "      <td>LATIN AMER. &amp; CARIB</td>\n",
              "      <td>13477</td>\n",
              "      <td>102</td>\n",
              "      <td>132.1</td>\n",
              "      <td>59.80</td>\n",
              "      <td>10.76</td>\n",
              "      <td>0.116557</td>\n",
              "      <td>8600.0</td>\n",
              "      <td>0.939320</td>\n",
              "      <td>460.0</td>\n",
              "      <td>14.17</td>\n",
              "      <td>5.34</td>\n",
              "      <td>0.040</td>\n",
              "      <td>0.180</td>\n",
              "      <td>0.780</td>\n",
              "      <td>1</td>\n",
              "    </tr>\n",
              "    <tr>\n",
              "      <th>7</th>\n",
              "      <td>Antigua &amp; Barbuda</td>\n",
              "      <td>LATIN AMER. &amp; CARIB</td>\n",
              "      <td>69108</td>\n",
              "      <td>443</td>\n",
              "      <td>156.0</td>\n",
              "      <td>34.54</td>\n",
              "      <td>-6.15</td>\n",
              "      <td>0.106792</td>\n",
              "      <td>11000.0</td>\n",
              "      <td>0.866505</td>\n",
              "      <td>549.9</td>\n",
              "      <td>16.93</td>\n",
              "      <td>5.37</td>\n",
              "      <td>0.038</td>\n",
              "      <td>0.220</td>\n",
              "      <td>0.743</td>\n",
              "      <td>1</td>\n",
              "    </tr>\n",
              "  </tbody>\n",
              "</table>\n",
              "</div>"
            ],
            "text/plain": [
              "              Country                               Region  ...  Service  cluster\n",
              "0        Afghanistan         ASIA (EX. NEAR EAST)           ...    0.380        0\n",
              "1            Albania   EASTERN EUROPE                       ...    0.579        1\n",
              "2            Algeria   NORTHERN AFRICA                      ...    0.298        1\n",
              "6           Anguilla               LATIN AMER. & CARIB      ...    0.780        1\n",
              "7  Antigua & Barbuda               LATIN AMER. & CARIB      ...    0.743        1\n",
              "\n",
              "[5 rows x 17 columns]"
            ]
          },
          "metadata": {},
          "execution_count": 80
        }
      ]
    },
    {
      "cell_type": "code",
      "metadata": {
        "colab": {
          "base_uri": "https://localhost:8080/",
          "height": 282
        },
        "id": "yHpluOMaKkR_",
        "outputId": "ce0a1718-747d-43bc-bb69-ec21c5df32f9"
      },
      "source": [
        "plt.scatter(data.Birthrate,data['Infant mortality (per 1000 births)'])"
      ],
      "execution_count": null,
      "outputs": [
        {
          "output_type": "execute_result",
          "data": {
            "text/plain": [
              "<matplotlib.collections.PathCollection at 0x7ff4b9d953d0>"
            ]
          },
          "metadata": {},
          "execution_count": 81
        },
        {
          "output_type": "display_data",
          "data": {
            "image/png": "[encoded data removed]",
            "text/plain": [
              "<Figure size 432x288 with 1 Axes>"
            ]
          },
          "metadata": {
            "needs_background": "light"
          }
        }
      ]
    },
    {
      "cell_type": "code",
      "metadata": {
        "colab": {
          "base_uri": "https://localhost:8080/",
          "height": 282
        },
        "id": "E4NYzgtQK44I",
        "outputId": "1ee747a2-4156-48cf-9372-a2fdfc596d1d"
      },
      "source": [
        "plt.scatter(data.Birthrate,data['Literacy (%)'])"
      ],
      "execution_count": null,
      "outputs": [
        {
          "output_type": "execute_result",
          "data": {
            "text/plain": [
              "<matplotlib.collections.PathCollection at 0x7ff4ba8113d0>"
            ]
          },
          "metadata": {},
          "execution_count": 82
        },
        {
          "output_type": "display_data",
          "data": {
            "image/png": "[encoded data removed]",
            "text/plain": [
              "<Figure size 432x288 with 1 Axes>"
            ]
          },
          "metadata": {
            "needs_background": "light"
          }
        }
      ]
    },
    {
      "cell_type": "code",
      "metadata": {
        "colab": {
          "base_uri": "https://localhost:8080/"
        },
        "id": "FpUNSbodLlxA",
        "outputId": "8b8b370b-ae5d-4c5a-fa34-219292541b16"
      },
      "source": [
        "km = KMeans(n_clusters=3)\n",
        "y_predicted = km.fit_predict(data[['Literacy (%)','Infant mortality (per 1000 births)']])\n",
        "y_predicted"
      ],
      "execution_count": null,
      "outputs": [
        {
          "output_type": "execute_result",
          "data": {
            "text/plain": [
              "array([2, 1, 0, 1, 1, 1, 1, 1, 1, 1, 0, 1, 1, 2, 1, 1, 1, 1, 2, 1, 2, 0,\n",
              "       0, 1, 1, 1, 1, 2, 0, 2, 0, 0, 0, 1, 2, 2, 1, 1, 1, 2, 2, 0, 1, 2,\n",
              "       1, 1, 1, 2, 1, 1, 1, 0, 1, 0, 2, 1, 2, 1, 1, 1, 1, 1, 0, 2, 1, 1,\n",
              "       0, 1, 1, 1, 0, 2, 2, 1, 2, 0, 1, 1, 1, 0, 1, 0, 2, 1, 1, 1, 1, 1,\n",
              "       1, 0, 1, 1, 1, 1, 0, 1, 0, 2, 1, 1, 0, 2, 1, 0, 2, 1, 1, 2, 1, 1,\n",
              "       1, 0, 2, 0, 1, 1, 1, 1, 0, 2, 2, 1, 1, 2, 1, 1, 0, 1, 1, 1, 1, 1,\n",
              "       1, 1, 1, 1, 0, 1, 0, 1, 1, 0, 1, 2, 0, 2, 1, 2, 0, 1, 1, 0, 1, 0,\n",
              "       1, 1, 0, 1, 0, 1, 0, 1, 1, 0, 0, 0, 0, 1, 1, 1, 1, 1, 0, 2, 1, 1,\n",
              "       2, 0, 0], dtype=int32)"
            ]
          },
          "metadata": {},
          "execution_count": 84
        }
      ]
    },
    {
      "cell_type": "code",
      "metadata": {
        "colab": {
          "base_uri": "https://localhost:8080/",
          "height": 428
        },
        "id": "-teYzP1-MDjm",
        "outputId": "e6708a38-8951-4812-b5e6-6a886d73a651"
      },
      "source": [
        "data['cluster']=y_predicted\n",
        "data.head()"
      ],
      "execution_count": null,
      "outputs": [
        {
          "output_type": "execute_result",
          "data": {
            "text/html": [
              "<div>\n",
              "<style scoped>\n",
              "    .dataframe tbody tr th:only-of-type {\n",
              "        vertical-align: middle;\n",
              "    }\n",
              "\n",
              "    .dataframe tbody tr th {\n",
              "        vertical-align: top;\n",
              "    }\n",
              "\n",
              "    .dataframe thead th {\n",
              "        text-align: right;\n",
              "    }\n",
              "</style>\n",
              "<table border=\"1\" class=\"dataframe\">\n",
              "  <thead>\n",
              "    <tr style=\"text-align: right;\">\n",
              "      <th></th>\n",
              "      <th>Country</th>\n",
              "      <th>Region</th>\n",
              "      <th>Population</th>\n",
              "      <th>Area (sq. mi.)</th>\n",
              "      <th>Pop. Density (per sq. mi.)</th>\n",
              "      <th>Coastline (coast/area ratio)</th>\n",
              "      <th>Net migration</th>\n",
              "      <th>Infant mortality (per 1000 births)</th>\n",
              "      <th>GDP ($ per capita)</th>\n",
              "      <th>Literacy (%)</th>\n",
              "      <th>Phones (per 1000)</th>\n",
              "      <th>Birthrate</th>\n",
              "      <th>Deathrate</th>\n",
              "      <th>Agriculture</th>\n",
              "      <th>Industry</th>\n",
              "      <th>Service</th>\n",
              "      <th>cluster</th>\n",
              "    </tr>\n",
              "  </thead>\n",
              "  <tbody>\n",
              "    <tr>\n",
              "      <th>0</th>\n",
              "      <td>Afghanistan</td>\n",
              "      <td>ASIA (EX. NEAR EAST)</td>\n",
              "      <td>31056997</td>\n",
              "      <td>647500</td>\n",
              "      <td>48.0</td>\n",
              "      <td>0.00</td>\n",
              "      <td>23.06</td>\n",
              "      <td>1.000000</td>\n",
              "      <td>700.0</td>\n",
              "      <td>0.223301</td>\n",
              "      <td>3.2</td>\n",
              "      <td>46.60</td>\n",
              "      <td>20.34</td>\n",
              "      <td>0.380</td>\n",
              "      <td>0.240</td>\n",
              "      <td>0.380</td>\n",
              "      <td>2</td>\n",
              "    </tr>\n",
              "    <tr>\n",
              "      <th>1</th>\n",
              "      <td>Albania</td>\n",
              "      <td>EASTERN EUROPE</td>\n",
              "      <td>3581655</td>\n",
              "      <td>28748</td>\n",
              "      <td>124.6</td>\n",
              "      <td>1.26</td>\n",
              "      <td>-4.93</td>\n",
              "      <td>0.119604</td>\n",
              "      <td>4500.0</td>\n",
              "      <td>0.836165</td>\n",
              "      <td>71.2</td>\n",
              "      <td>15.11</td>\n",
              "      <td>5.22</td>\n",
              "      <td>0.232</td>\n",
              "      <td>0.188</td>\n",
              "      <td>0.579</td>\n",
              "      <td>1</td>\n",
              "    </tr>\n",
              "    <tr>\n",
              "      <th>2</th>\n",
              "      <td>Algeria</td>\n",
              "      <td>NORTHERN AFRICA</td>\n",
              "      <td>32930091</td>\n",
              "      <td>2381740</td>\n",
              "      <td>13.8</td>\n",
              "      <td>0.04</td>\n",
              "      <td>-0.39</td>\n",
              "      <td>0.178567</td>\n",
              "      <td>6000.0</td>\n",
              "      <td>0.635922</td>\n",
              "      <td>78.1</td>\n",
              "      <td>17.14</td>\n",
              "      <td>4.61</td>\n",
              "      <td>0.101</td>\n",
              "      <td>0.600</td>\n",
              "      <td>0.298</td>\n",
              "      <td>0</td>\n",
              "    </tr>\n",
              "    <tr>\n",
              "      <th>6</th>\n",
              "      <td>Anguilla</td>\n",
              "      <td>LATIN AMER. &amp; CARIB</td>\n",
              "      <td>13477</td>\n",
              "      <td>102</td>\n",
              "      <td>132.1</td>\n",
              "      <td>59.80</td>\n",
              "      <td>10.76</td>\n",
              "      <td>0.116557</td>\n",
              "      <td>8600.0</td>\n",
              "      <td>0.939320</td>\n",
              "      <td>460.0</td>\n",
              "      <td>14.17</td>\n",
              "      <td>5.34</td>\n",
              "      <td>0.040</td>\n",
              "      <td>0.180</td>\n",
              "      <td>0.780</td>\n",
              "      <td>1</td>\n",
              "    </tr>\n",
              "    <tr>\n",
              "      <th>7</th>\n",
              "      <td>Antigua &amp; Barbuda</td>\n",
              "      <td>LATIN AMER. &amp; CARIB</td>\n",
              "      <td>69108</td>\n",
              "      <td>443</td>\n",
              "      <td>156.0</td>\n",
              "      <td>34.54</td>\n",
              "      <td>-6.15</td>\n",
              "      <td>0.106792</td>\n",
              "      <td>11000.0</td>\n",
              "      <td>0.866505</td>\n",
              "      <td>549.9</td>\n",
              "      <td>16.93</td>\n",
              "      <td>5.37</td>\n",
              "      <td>0.038</td>\n",
              "      <td>0.220</td>\n",
              "      <td>0.743</td>\n",
              "      <td>1</td>\n",
              "    </tr>\n",
              "  </tbody>\n",
              "</table>\n",
              "</div>"
            ],
            "text/plain": [
              "              Country                               Region  ...  Service  cluster\n",
              "0        Afghanistan         ASIA (EX. NEAR EAST)           ...    0.380        2\n",
              "1            Albania   EASTERN EUROPE                       ...    0.579        1\n",
              "2            Algeria   NORTHERN AFRICA                      ...    0.298        0\n",
              "6           Anguilla               LATIN AMER. & CARIB      ...    0.780        1\n",
              "7  Antigua & Barbuda               LATIN AMER. & CARIB      ...    0.743        1\n",
              "\n",
              "[5 rows x 17 columns]"
            ]
          },
          "metadata": {},
          "execution_count": 85
        }
      ]
    },
    {
      "cell_type": "code",
      "metadata": {
        "colab": {
          "base_uri": "https://localhost:8080/"
        },
        "id": "bDBEAsELMKJg",
        "outputId": "6e65eade-eff6-4dac-ffee-cbf5a4e1a045"
      },
      "source": [
        "km.cluster_centers_"
      ],
      "execution_count": null,
      "outputs": [
        {
          "output_type": "execute_result",
          "data": {
            "text/plain": [
              "array([[0.73236058, 0.34739945],\n",
              "       [0.93273898, 0.0752019 ],\n",
              "       [0.35251062, 0.56242225]])"
            ]
          },
          "metadata": {},
          "execution_count": 86
        }
      ]
    },
    {
      "cell_type": "code",
      "metadata": {
        "colab": {
          "base_uri": "https://localhost:8080/",
          "height": 296
        },
        "id": "JvVcUXDRMNRw",
        "outputId": "f6d324ad-694d-4c6b-b09e-42eb7f384d10"
      },
      "source": [
        "df1 = data[data.cluster==0]\n",
        "df2 = data[data.cluster==1]\n",
        "df3 = data[data.cluster==2]\n",
        "plt.scatter(df1.Birthrate,df1['Birthrate'],color='blue')\n",
        "plt.scatter(df2.Birthrate,df2['Literacy (%)'],color='red')\n",
        "plt.scatter(df3.Birthrate,df3['Infant mortality (per 1000 births)'],color='black')\n",
        "plt.scatter(km.cluster_centers_[:,0],km.cluster_centers_[:,1],color='purple',marker='*',label='centroid')\n",
        "plt.xlabel('Infant mortality (per 1000 births)')\n",
        "plt.ylabel('Literacy (%)')\n",
        "plt.legend()"
      ],
      "execution_count": null,
      "outputs": [
        {
          "output_type": "execute_result",
          "data": {
            "text/plain": [
              "<matplotlib.legend.Legend at 0x7ff4b9b447d0>"
            ]
          },
          "metadata": {},
          "execution_count": 87
        },
        {
          "output_type": "display_data",
          "data": {
            "image/png": "[encoded data removed]",
            "text/plain": [
              "<Figure size 432x288 with 1 Axes>"
            ]
          },
          "metadata": {
            "needs_background": "light"
          }
        }
      ]
    },
    {
      "cell_type": "code",
      "metadata": {
        "colab": {
          "base_uri": "https://localhost:8080/"
        },
        "id": "Yd53uMpqw6D5",
        "outputId": "c31270b9-c81d-43ae-e585-d2fc87e6aa6d"
      },
      "source": [
        "data.info()"
      ],
      "execution_count": null,
      "outputs": [
        {
          "output_type": "stream",
          "name": "stdout",
          "text": [
            "<class 'pandas.core.frame.DataFrame'>\n",
            "Int64Index: 179 entries, 0 to 226\n",
            "Data columns (total 16 columns):\n",
            " #   Column                              Non-Null Count  Dtype  \n",
            "---  ------                              --------------  -----  \n",
            " 0   Country                             179 non-null    object \n",
            " 1   Region                              179 non-null    object \n",
            " 2   Population                          179 non-null    int64  \n",
            " 3   Area (sq. mi.)                      179 non-null    int64  \n",
            " 4   Pop. Density (per sq. mi.)          179 non-null    float64\n",
            " 5   Coastline (coast/area ratio)        179 non-null    float64\n",
            " 6   Net migration                       179 non-null    float64\n",
            " 7   Infant mortality (per 1000 births)  179 non-null    float64\n",
            " 8   GDP ($ per capita)                  179 non-null    float64\n",
            " 9   Literacy (%)                        179 non-null    float64\n",
            " 10  Phones (per 1000)                   179 non-null    float64\n",
            " 11  Birthrate                           179 non-null    float64\n",
            " 12  Deathrate                           179 non-null    float64\n",
            " 13  Agriculture                         179 non-null    float64\n",
            " 14  Industry                            179 non-null    float64\n",
            " 15  Service                             179 non-null    float64\n",
            "dtypes: float64(12), int64(2), object(2)\n",
            "memory usage: 23.8+ KB\n"
          ]
        }
      ]
    },
    {
      "cell_type": "code",
      "metadata": {
        "id": "8XzDTLOCNU6k"
      },
      "source": [
        "column_name=data.columns"
      ],
      "execution_count": null,
      "outputs": []
    },
    {
      "cell_type": "markdown",
      "metadata": {
        "id": "jqLSMu5v5DGS"
      },
      "source": [
        "**Find co-relation between Literacy of the country and Infant mortality**"
      ]
    },
    {
      "cell_type": "code",
      "metadata": {
        "colab": {
          "base_uri": "https://localhost:8080/"
        },
        "id": "df-zeZtoNfTb",
        "outputId": "ce0d5992-d6a4-49f0-d9d7-20d07eb7d59b"
      },
      "source": [
        " X_dataset=data[['Infant mortality (per 1000 births)','Literacy (%)']] ;\n",
        "X_dataset.info()"
      ],
      "execution_count": null,
      "outputs": [
        {
          "output_type": "stream",
          "name": "stdout",
          "text": [
            "<class 'pandas.core.frame.DataFrame'>\n",
            "Int64Index: 179 entries, 0 to 226\n",
            "Data columns (total 2 columns):\n",
            " #   Column                              Non-Null Count  Dtype  \n",
            "---  ------                              --------------  -----  \n",
            " 0   Infant mortality (per 1000 births)  179 non-null    float64\n",
            " 1   Literacy (%)                        179 non-null    float64\n",
            "dtypes: float64(2)\n",
            "memory usage: 4.2 KB\n"
          ]
        }
      ]
    },
    {
      "cell_type": "markdown",
      "metadata": {
        "id": "c4v2K77JPEmH"
      },
      "source": [
        "**Clustering by K means Using Scikit**"
      ]
    },
    {
      "cell_type": "code",
      "metadata": {
        "id": "sq5jui0ANwAb"
      },
      "source": [
        "ka=[]\n",
        "for i in range(1,6):\n",
        "    kmeans = KMeans(n_clusters= i, init='k-means++')\n",
        "    kmeans.fit(X_dataset)\n",
        "    ka.append(kmeans.inertia_)"
      ],
      "execution_count": null,
      "outputs": []
    },
    {
      "cell_type": "markdown",
      "metadata": {
        "id": "R4FIgt94DKWh"
      },
      "source": [
        "**Elbow method to determine the clusters in unsupervised learning**"
      ]
    },
    {
      "cell_type": "code",
      "metadata": {
        "colab": {
          "base_uri": "https://localhost:8080/",
          "height": 295
        },
        "id": "uFmvTLN6N6ba",
        "outputId": "a17324eb-315a-4091-8bc7-582e9702ffb9"
      },
      "source": [
        "plt.plot(range(1,6), ka)\n",
        "plt.title('The Elbow Method')\n",
        "plt.xlabel('number of clusters')\n",
        "plt.ylabel('ka')\n",
        "plt.show()"
      ],
      "execution_count": null,
      "outputs": [
        {
          "output_type": "display_data",
          "data": {
            "image/png": "[encoded data removed]",
            "text/plain": [
              "<Figure size 432x288 with 1 Axes>"
            ]
          },
          "metadata": {
            "needs_background": "light"
          }
        }
      ]
    },
    {
      "cell_type": "code",
      "metadata": {
        "colab": {
          "base_uri": "https://localhost:8080/"
        },
        "id": "vxySjMXDOD0z",
        "outputId": "0ea1b5fc-8975-46d2-c2b1-20cef19dedeb"
      },
      "source": [
        "# K-Means using selected number of clusters from the elbow method\n",
        "kmeans = KMeans(n_clusters=2)\n",
        "kmeans.fit(X_dataset)\n",
        "kmeansmodel = KMeans(n_clusters= 2, init='k-means++')\n",
        "y_kmeans= kmeansmodel.fit_predict(X_dataset)\n",
        "y_kmeans"
      ],
      "execution_count": null,
      "outputs": [
        {
          "output_type": "execute_result",
          "data": {
            "text/plain": [
              "array([0, 1, 1, 1, 1, 1, 1, 1, 1, 1, 0, 1, 1, 0, 1, 1, 1, 1, 0, 1, 0, 1,\n",
              "       0, 1, 1, 1, 1, 0, 0, 0, 0, 0, 1, 1, 0, 0, 1, 1, 1, 0, 0, 0, 1, 0,\n",
              "       1, 1, 1, 0, 1, 1, 1, 1, 1, 0, 0, 1, 0, 1, 1, 1, 1, 1, 0, 0, 1, 1,\n",
              "       0, 1, 1, 1, 1, 0, 0, 1, 0, 1, 1, 1, 1, 0, 1, 1, 0, 1, 1, 1, 1, 1,\n",
              "       1, 0, 1, 1, 1, 1, 0, 1, 0, 0, 1, 1, 0, 0, 1, 1, 0, 1, 1, 0, 1, 1,\n",
              "       1, 1, 0, 1, 1, 1, 1, 1, 1, 0, 0, 1, 1, 0, 1, 1, 0, 1, 1, 1, 1, 1,\n",
              "       1, 1, 1, 1, 0, 1, 1, 1, 1, 1, 1, 0, 1, 0, 1, 0, 0, 1, 1, 0, 1, 0,\n",
              "       1, 1, 1, 1, 0, 1, 0, 1, 1, 1, 1, 0, 0, 1, 1, 1, 1, 1, 0, 0, 1, 1,\n",
              "       0, 0, 0], dtype=int32)"
            ]
          },
          "metadata": {},
          "execution_count": 16
        }
      ]
    },
    {
      "cell_type": "code",
      "metadata": {
        "colab": {
          "base_uri": "https://localhost:8080/",
          "height": 295
        },
        "id": "CH5510ygONdR",
        "outputId": "a6a2e738-ebb1-4682-9962-2365f61b1c28"
      },
      "source": [
        "# Visualise the clusters\n",
        "X_dataset = np.array(X_dataset)\n",
        "plt.scatter(X_dataset[y_kmeans == 0, 0], X_dataset[y_kmeans == 0, 1], s = 100, c = 'red', label = 'High literacy')\n",
        "plt.scatter(X_dataset[y_kmeans == 1, 0], X_dataset[y_kmeans == 1, 1], s = 100, c = 'blue', label = 'Low literacy')\n",
        "plt.scatter(kmeans.cluster_centers_[:, 0], kmeans.cluster_centers_[:, 1], s = 300, c = 'black', label = 'Centroids')\n",
        "plt.title('Clusters of countries')\n",
        "plt.ylabel('Literacy (%)')\n",
        "plt.xlabel('Infant mortality (per 1000 births)')\n",
        "plt.legend()\n",
        "plt.show()"
      ],
      "execution_count": null,
      "outputs": [
        {
          "output_type": "display_data",
          "data": {
            "image/png": "[encoded data removed]",
            "text/plain": [
              "<Figure size 432x288 with 1 Axes>"
            ]
          },
          "metadata": {
            "needs_background": "light"
          }
        }
      ]
    },
    {
      "cell_type": "markdown",
      "metadata": {
        "id": "R-2_Kb5TEQG5"
      },
      "source": [
        "Analysis of relation between the column Literacy (%) and Infant mortality (per 1000 births):\n",
        "* We can see that a literacy is a good indicator of the countries infant mortality rate\n",
        "* Countries with high literacy(red cluster) have low Infant mortality\n",
        "* Countries with low literacy(blue cluster) have high Infant mortality \n"
      ]
    }
  ]
}